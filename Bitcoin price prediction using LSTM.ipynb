{
 "cells": [
  {
   "cell_type": "markdown",
   "id": "valuable-issue",
   "metadata": {},
   "source": [
    "<h2><center>Dataset Description</center></h2>\n",
    "\n",
    "Feature | Description \n",
    "----------|---------------\n",
    "**`local_time`** | Date and time(in milliseconds) of the bitcoin market. <br> **Examples:** '2021-02-14 00:24:41.875447-08:00' \n",
    "**`ask`**    | The lowest price a seller will accept for the corresponding share of the bitcoin\n",
    "**`bid`** |The highest price a buyer will pay for the corresponding share of the bitcoin<br> **Examples:** '3213'\n",
    "**`mid_price`** |  The average of the ask and bid prices (Predictor variable)<br> **Example:** 8916.855"
   ]
  },
  {
   "cell_type": "markdown",
   "id": "worthy-drilling",
   "metadata": {},
   "source": [
    "<h2>Importing Libraries</h2>"
   ]
  },
  {
   "cell_type": "code",
   "execution_count": 38,
   "id": "challenging-spanish",
   "metadata": {},
   "outputs": [],
   "source": [
    "import numpy as np\n",
    "import pandas as pd\n",
    "import matplotlib.pyplot as plt\n",
    "import math\n",
    "\n",
    "from sklearn.preprocessing import StandardScaler\n",
    "from sklearn.metrics import mean_squared_error\n",
    "\n",
    "from keras.models import Sequential\n",
    "from keras.layers import Dense\n",
    "from keras.layers import LSTM\n",
    "\n",
    "from keras.models import model_from_json\n",
    "\n",
    "from tqdm.notebook import tqdm "
   ]
  },
  {
   "cell_type": "markdown",
   "id": "paperback-protest",
   "metadata": {},
   "source": [
    "<h2> 1. Loading and Understanding the data </h2>"
   ]
  },
  {
   "cell_type": "code",
   "execution_count": 91,
   "id": "seeing-inflation",
   "metadata": {
    "scrolled": true
   },
   "outputs": [
    {
     "data": {
      "text/html": [
       "<div>\n",
       "<style scoped>\n",
       "    .dataframe tbody tr th:only-of-type {\n",
       "        vertical-align: middle;\n",
       "    }\n",
       "\n",
       "    .dataframe tbody tr th {\n",
       "        vertical-align: top;\n",
       "    }\n",
       "\n",
       "    .dataframe thead th {\n",
       "        text-align: right;\n",
       "    }\n",
       "</style>\n",
       "<table border=\"1\" class=\"dataframe\">\n",
       "  <thead>\n",
       "    <tr style=\"text-align: right;\">\n",
       "      <th></th>\n",
       "      <th>ask</th>\n",
       "      <th>bid</th>\n",
       "      <th>local_time</th>\n",
       "      <th>mid_price</th>\n",
       "    </tr>\n",
       "  </thead>\n",
       "  <tbody>\n",
       "    <tr>\n",
       "      <th>0</th>\n",
       "      <td>48916.86</td>\n",
       "      <td>48916.85</td>\n",
       "      <td>2021-02-14 00:24:41.875447-08:00</td>\n",
       "      <td>48916.855</td>\n",
       "    </tr>\n",
       "    <tr>\n",
       "      <th>1</th>\n",
       "      <td>48916.86</td>\n",
       "      <td>48916.85</td>\n",
       "      <td>2021-02-14 00:24:41.898807-08:00</td>\n",
       "      <td>48916.855</td>\n",
       "    </tr>\n",
       "    <tr>\n",
       "      <th>2</th>\n",
       "      <td>48916.86</td>\n",
       "      <td>48916.85</td>\n",
       "      <td>2021-02-14 00:24:41.927107-08:00</td>\n",
       "      <td>48916.855</td>\n",
       "    </tr>\n",
       "    <tr>\n",
       "      <th>3</th>\n",
       "      <td>48916.86</td>\n",
       "      <td>48916.85</td>\n",
       "      <td>2021-02-14 00:24:41.948069-08:00</td>\n",
       "      <td>48916.855</td>\n",
       "    </tr>\n",
       "    <tr>\n",
       "      <th>4</th>\n",
       "      <td>48916.86</td>\n",
       "      <td>48916.85</td>\n",
       "      <td>2021-02-14 00:24:41.973221-08:00</td>\n",
       "      <td>48916.855</td>\n",
       "    </tr>\n",
       "  </tbody>\n",
       "</table>\n",
       "</div>"
      ],
      "text/plain": [
       "        ask       bid                        local_time  mid_price\n",
       "0  48916.86  48916.85  2021-02-14 00:24:41.875447-08:00  48916.855\n",
       "1  48916.86  48916.85  2021-02-14 00:24:41.898807-08:00  48916.855\n",
       "2  48916.86  48916.85  2021-02-14 00:24:41.927107-08:00  48916.855\n",
       "3  48916.86  48916.85  2021-02-14 00:24:41.948069-08:00  48916.855\n",
       "4  48916.86  48916.85  2021-02-14 00:24:41.973221-08:00  48916.855"
      ]
     },
     "execution_count": 91,
     "metadata": {},
     "output_type": "execute_result"
    }
   ],
   "source": [
    "df=pd.read_csv('./data/btc_usd_pricing_data.csv')\n",
    "df.drop('Unnamed: 0',axis=1, inplace=True)\n",
    "df.head()"
   ]
  },
  {
   "cell_type": "code",
   "execution_count": 3,
   "id": "differential-fantasy",
   "metadata": {},
   "outputs": [
    {
     "data": {
      "text/html": [
       "<div>\n",
       "<style scoped>\n",
       "    .dataframe tbody tr th:only-of-type {\n",
       "        vertical-align: middle;\n",
       "    }\n",
       "\n",
       "    .dataframe tbody tr th {\n",
       "        vertical-align: top;\n",
       "    }\n",
       "\n",
       "    .dataframe thead th {\n",
       "        text-align: right;\n",
       "    }\n",
       "</style>\n",
       "<table border=\"1\" class=\"dataframe\">\n",
       "  <thead>\n",
       "    <tr style=\"text-align: right;\">\n",
       "      <th></th>\n",
       "      <th>ask</th>\n",
       "      <th>bid</th>\n",
       "      <th>local_time</th>\n",
       "      <th>mid_price</th>\n",
       "    </tr>\n",
       "  </thead>\n",
       "  <tbody>\n",
       "    <tr>\n",
       "      <th>8659566</th>\n",
       "      <td>50482.26</td>\n",
       "      <td>50482.25</td>\n",
       "      <td>2021-02-24 23:59:59.409873-08:00</td>\n",
       "      <td>50482.255</td>\n",
       "    </tr>\n",
       "    <tr>\n",
       "      <th>8659567</th>\n",
       "      <td>50482.26</td>\n",
       "      <td>50482.25</td>\n",
       "      <td>2021-02-24 23:59:59.539362-08:00</td>\n",
       "      <td>50482.255</td>\n",
       "    </tr>\n",
       "    <tr>\n",
       "      <th>8659568</th>\n",
       "      <td>50482.26</td>\n",
       "      <td>50482.25</td>\n",
       "      <td>2021-02-24 23:59:59.680420-08:00</td>\n",
       "      <td>50482.255</td>\n",
       "    </tr>\n",
       "    <tr>\n",
       "      <th>8659569</th>\n",
       "      <td>50482.26</td>\n",
       "      <td>50482.25</td>\n",
       "      <td>2021-02-24 23:59:59.794040-08:00</td>\n",
       "      <td>50482.255</td>\n",
       "    </tr>\n",
       "    <tr>\n",
       "      <th>8659570</th>\n",
       "      <td>50482.26</td>\n",
       "      <td>50482.25</td>\n",
       "      <td>2021-02-24 23:59:59.916656-08:00</td>\n",
       "      <td>50482.255</td>\n",
       "    </tr>\n",
       "  </tbody>\n",
       "</table>\n",
       "</div>"
      ],
      "text/plain": [
       "              ask       bid                        local_time  mid_price\n",
       "8659566  50482.26  50482.25  2021-02-24 23:59:59.409873-08:00  50482.255\n",
       "8659567  50482.26  50482.25  2021-02-24 23:59:59.539362-08:00  50482.255\n",
       "8659568  50482.26  50482.25  2021-02-24 23:59:59.680420-08:00  50482.255\n",
       "8659569  50482.26  50482.25  2021-02-24 23:59:59.794040-08:00  50482.255\n",
       "8659570  50482.26  50482.25  2021-02-24 23:59:59.916656-08:00  50482.255"
      ]
     },
     "execution_count": 3,
     "metadata": {},
     "output_type": "execute_result"
    }
   ],
   "source": [
    "df.tail()"
   ]
  },
  {
   "cell_type": "code",
   "execution_count": 4,
   "id": "aerial-bidding",
   "metadata": {},
   "outputs": [
    {
     "data": {
      "text/plain": [
       "(8659571, 4)"
      ]
     },
     "execution_count": 4,
     "metadata": {},
     "output_type": "execute_result"
    }
   ],
   "source": [
    "df.shape"
   ]
  },
  {
   "cell_type": "code",
   "execution_count": 5,
   "id": "differential-complaint",
   "metadata": {},
   "outputs": [
    {
     "name": "stdout",
     "output_type": "stream",
     "text": [
      "From: 2021-02-14 00:24:41.875447-08:00  To 2021-02-24 23:59:59.916656-08:00\n"
     ]
    }
   ],
   "source": [
    "print('From:',df['local_time'].min(),' To',df['local_time'].max())"
   ]
  },
  {
   "cell_type": "markdown",
   "id": "excited-trick",
   "metadata": {},
   "source": [
    "As we can see there is data for more than 86 lakh rows of bitcoin prices from the start of 14th February till the end of 24th of February. We should also note that bitcoin has 24-hour markets."
   ]
  },
  {
   "cell_type": "markdown",
   "id": "floppy-detector",
   "metadata": {},
   "source": [
    "### Convert local_time to into date_time data type "
   ]
  },
  {
   "cell_type": "code",
   "execution_count": 92,
   "id": "hollywood-investigation",
   "metadata": {},
   "outputs": [
    {
     "data": {
      "text/html": [
       "<div>\n",
       "<style scoped>\n",
       "    .dataframe tbody tr th:only-of-type {\n",
       "        vertical-align: middle;\n",
       "    }\n",
       "\n",
       "    .dataframe tbody tr th {\n",
       "        vertical-align: top;\n",
       "    }\n",
       "\n",
       "    .dataframe thead th {\n",
       "        text-align: right;\n",
       "    }\n",
       "</style>\n",
       "<table border=\"1\" class=\"dataframe\">\n",
       "  <thead>\n",
       "    <tr style=\"text-align: right;\">\n",
       "      <th></th>\n",
       "      <th>ask</th>\n",
       "      <th>bid</th>\n",
       "      <th>local_time</th>\n",
       "      <th>mid_price</th>\n",
       "      <th>datetime</th>\n",
       "    </tr>\n",
       "  </thead>\n",
       "  <tbody>\n",
       "    <tr>\n",
       "      <th>0</th>\n",
       "      <td>48916.86</td>\n",
       "      <td>48916.85</td>\n",
       "      <td>2021-02-14 00:24:41.875447-08:00</td>\n",
       "      <td>48916.855</td>\n",
       "      <td>2021-02-14 00:24:41.875447-08:00</td>\n",
       "    </tr>\n",
       "    <tr>\n",
       "      <th>1</th>\n",
       "      <td>48916.86</td>\n",
       "      <td>48916.85</td>\n",
       "      <td>2021-02-14 00:24:41.898807-08:00</td>\n",
       "      <td>48916.855</td>\n",
       "      <td>2021-02-14 00:24:41.898807-08:00</td>\n",
       "    </tr>\n",
       "  </tbody>\n",
       "</table>\n",
       "</div>"
      ],
      "text/plain": [
       "        ask       bid                        local_time  mid_price  \\\n",
       "0  48916.86  48916.85  2021-02-14 00:24:41.875447-08:00  48916.855   \n",
       "1  48916.86  48916.85  2021-02-14 00:24:41.898807-08:00  48916.855   \n",
       "\n",
       "                          datetime  \n",
       "0 2021-02-14 00:24:41.875447-08:00  \n",
       "1 2021-02-14 00:24:41.898807-08:00  "
      ]
     },
     "execution_count": 92,
     "metadata": {},
     "output_type": "execute_result"
    }
   ],
   "source": [
    "df = df.reset_index(drop=True)\n",
    "#df['local_time']=df['local_time'].map(lambda x: str(x)[:-4]) #remove last 4 characters in time\n",
    "df['datetime'] = pd.to_datetime(df['local_time'],format='%Y-%m-%d %H:%M:%S.%f')\n",
    "df.head(2)"
   ]
  },
  {
   "cell_type": "code",
   "execution_count": 93,
   "id": "coated-poison",
   "metadata": {},
   "outputs": [],
   "source": [
    "df.drop('local_time',axis=1, inplace=True)"
   ]
  },
  {
   "cell_type": "markdown",
   "id": "distinct-advertiser",
   "metadata": {},
   "source": [
    "<h2>2. Exploratory Data Analysis </h2>"
   ]
  },
  {
   "cell_type": "code",
   "execution_count": 89,
   "id": "handmade-agency",
   "metadata": {},
   "outputs": [
    {
     "data": {
      "image/png": "[encoded data removed]",
      "text/plain": [
       "<Figure size 720x360 with 1 Axes>"
      ]
     },
     "metadata": {
      "needs_background": "light"
     },
     "output_type": "display_data"
    }
   ],
   "source": [
    "plt.figure(figsize=(10, 5))\n",
    "plt.plot_date(df['datetime'],df['mid_price'],label='Mid Price')\n",
    "plt.title('Mid Prices of Bitcoin Data')\n",
    "plt.xlabel('Date')\n",
    "plt.ylabel('Mid Price')\n",
    "plt.legend(loc='best')\n",
    "plt.show()"
   ]
  },
  {
   "cell_type": "markdown",
   "id": "elect-niagara",
   "metadata": {},
   "source": [
    "### Bitcoin Market Fluctuations in a day (24/02/2020)"
   ]
  },
  {
   "cell_type": "code",
   "execution_count": 95,
   "id": "regional-polymer",
   "metadata": {},
   "outputs": [
    {
     "data": {
      "image/png": "[encoded data removed]",
      "text/plain": [
       "<Figure size 720x360 with 1 Axes>"
      ]
     },
     "metadata": {
      "needs_background": "light"
     },
     "output_type": "display_data"
    }
   ],
   "source": [
    "start_date = '2021-02-24 00:00:00'\n",
    "end_date = '2021-02-24 23:59:59.916656-08:00'\n",
    "df_day=df[df['datetime'].between(start_date, end_date)]\n",
    "#df_day.loc[:,'datetime'] = df_day.loc[:,'datetime'].dt.strftime('%H:%M:%S.%f')\n",
    "plt.figure(figsize=(10, 5))\n",
    "plt.plot_date(df_day['datetime'],df_day['mid_price'],label='Mid Price',fmt ='.')\n",
    "plt.title('Bitcoin Market Fluctuations in a day (24/02/2020)')\n",
    "plt.xlabel('Time')\n",
    "plt.ylabel('Mid Price')\n",
    "plt.legend(loc='best')\n",
    "plt.show()"
   ]
  },
  {
   "cell_type": "markdown",
   "id": "fifth-penalty",
   "metadata": {},
   "source": [
    "### Bitcoin Market Fluctuations in a week"
   ]
  },
  {
   "cell_type": "code",
   "execution_count": 90,
   "id": "metallic-compromise",
   "metadata": {
    "scrolled": true
   },
   "outputs": [
    {
     "data": {
      "image/png": "[encoded data removed]",
      "text/plain": [
       "<Figure size 720x360 with 1 Axes>"
      ]
     },
     "metadata": {
      "needs_background": "light"
     },
     "output_type": "display_data"
    }
   ],
   "source": [
    "start_date = '2021-02-15 00:00:00'\n",
    "end_date = '2021-02-19 23:59:59.916656-08:00'\n",
    "df_day=df[df['datetime'].between(start_date, end_date)]\n",
    "plt.figure(figsize=(10, 5))\n",
    "plt.plot_date(df_day['datetime'],df_day['mid_price'],label='Mid Price',fmt = '.')\n",
    "plt.legend(loc='best')\n",
    "plt.title('Bitcoin Market Fluctuations in a day (24/02/2020)')\n",
    "plt.xlabel('Date')\n",
    "plt.ylabel('Mid Price')\n",
    "plt.show()"
   ]
  },
  {
   "cell_type": "markdown",
   "id": "ignored-exhibit",
   "metadata": {},
   "source": [
    "### Check Interval sizes"
   ]
  },
  {
   "cell_type": "code",
   "execution_count": 123,
   "id": "amazing-replication",
   "metadata": {},
   "outputs": [
    {
     "data": {
      "application/vnd.jupyter.widget-view+json": {
       "model_id": "2bf88904285a4885930656ccab38d97d",
       "version_major": 2,
       "version_minor": 0
      },
      "text/plain": [
       "  0%|          | 0/8659570 [00:00<?, ?it/s]"
      ]
     },
     "metadata": {},
     "output_type": "display_data"
    }
   ],
   "source": [
    "t=[]\n",
    "for i in tqdm(range(df.shape[0]-1)):\n",
    "    tdelta = df.loc[i+1,'datetime'] - df.loc[i,'datetime']\n",
    "    t.append(tdelta.total_seconds())"
   ]
  },
  {
   "cell_type": "code",
   "execution_count": 144,
   "id": "threaded-penalty",
   "metadata": {},
   "outputs": [
    {
     "name": "stdout",
     "output_type": "stream",
     "text": [
      "Mean of the difference between two timestamps: 0.10958027260118003\n",
      "Standard Deviation of the difference between two timestamps: 0.1672088751606061\n"
     ]
    },
    {
     "data": {
      "image/png": "[encoded data removed]",
      "text/plain": [
       "<Figure size 432x288 with 1 Axes>"
      ]
     },
     "metadata": {
      "needs_background": "light"
     },
     "output_type": "display_data"
    }
   ],
   "source": [
    "interval_diff = np.array(t)\n",
    "print('Mean of the difference between two timestamps:',interval_diff.mean())\n",
    "print('Standard Deviation of the difference between two timestamps:',interval_diff.var())\n",
    "plt.plot(interval_diff)\n",
    "plt.show()"
   ]
  },
  {
   "cell_type": "markdown",
   "id": "danish-formula",
   "metadata": {},
   "source": [
    "The interval sizes has a mean of 0.109 but has an high variance which means there isn't a fixed time interval in the data. From th plot above, we can note that mostly all the datapoints has an interval close to zero but there are also around 400 intervals at 6 seconds."
   ]
  },
  {
   "cell_type": "code",
   "execution_count": 151,
   "id": "secure-stake",
   "metadata": {},
   "outputs": [
    {
     "name": "stdout",
     "output_type": "stream",
     "text": [
      "There is difference of 18.67 minutes between the timestamp at index 882 and 883\n"
     ]
    },
    {
     "data": {
      "text/html": [
       "<div>\n",
       "<style scoped>\n",
       "    .dataframe tbody tr th:only-of-type {\n",
       "        vertical-align: middle;\n",
       "    }\n",
       "\n",
       "    .dataframe tbody tr th {\n",
       "        vertical-align: top;\n",
       "    }\n",
       "\n",
       "    .dataframe thead th {\n",
       "        text-align: right;\n",
       "    }\n",
       "</style>\n",
       "<table border=\"1\" class=\"dataframe\">\n",
       "  <thead>\n",
       "    <tr style=\"text-align: right;\">\n",
       "      <th></th>\n",
       "      <th>ask</th>\n",
       "      <th>bid</th>\n",
       "      <th>local_time</th>\n",
       "      <th>mid_price</th>\n",
       "      <th>datetime</th>\n",
       "    </tr>\n",
       "  </thead>\n",
       "  <tbody>\n",
       "    <tr>\n",
       "      <th>881</th>\n",
       "      <td>48916.96</td>\n",
       "      <td>48916.95</td>\n",
       "      <td>2021-02-14 00:25:03.755801-08:00</td>\n",
       "      <td>48916.955</td>\n",
       "      <td>2021-02-14 00:25:03.755801-08:00</td>\n",
       "    </tr>\n",
       "    <tr>\n",
       "      <th>882</th>\n",
       "      <td>48916.96</td>\n",
       "      <td>48916.95</td>\n",
       "      <td>2021-02-14 00:25:03.780956-08:00</td>\n",
       "      <td>48916.955</td>\n",
       "      <td>2021-02-14 00:25:03.780956-08:00</td>\n",
       "    </tr>\n",
       "    <tr>\n",
       "      <th>883</th>\n",
       "      <td>48670.08</td>\n",
       "      <td>48670.07</td>\n",
       "      <td>2021-02-14 00:43:44.221668-08:00</td>\n",
       "      <td>48670.075</td>\n",
       "      <td>2021-02-14 00:43:44.221668-08:00</td>\n",
       "    </tr>\n",
       "  </tbody>\n",
       "</table>\n",
       "</div>"
      ],
      "text/plain": [
       "          ask       bid                        local_time  mid_price  \\\n",
       "881  48916.96  48916.95  2021-02-14 00:25:03.755801-08:00  48916.955   \n",
       "882  48916.96  48916.95  2021-02-14 00:25:03.780956-08:00  48916.955   \n",
       "883  48670.08  48670.07  2021-02-14 00:43:44.221668-08:00  48670.075   \n",
       "\n",
       "                            datetime  \n",
       "881 2021-02-14 00:25:03.755801-08:00  \n",
       "882 2021-02-14 00:25:03.780956-08:00  \n",
       "883 2021-02-14 00:43:44.221668-08:00  "
      ]
     },
     "execution_count": 151,
     "metadata": {},
     "output_type": "execute_result"
    }
   ],
   "source": [
    "print('There is difference of',np.round(interval_diff.max()/60,2), 'minutes between the timestamp at index'\n",
    "      ,interval_diff.argmax(),'and',interval_diff.argmax()+1)\n",
    "df[881:884]"
   ]
  },
  {
   "cell_type": "markdown",
   "id": "popular-regard",
   "metadata": {},
   "source": [
    "Therefore, the data has to be split into some fixed interval which can be set as tiwce the mean."
   ]
  },
  {
   "cell_type": "markdown",
   "id": "above-effort",
   "metadata": {},
   "source": [
    "## 3. Data Pre-Processing"
   ]
  },
  {
   "cell_type": "code",
   "execution_count": 8,
   "id": "competent-anchor",
   "metadata": {},
   "outputs": [
    {
     "data": {
      "text/html": [
       "<div>\n",
       "<style scoped>\n",
       "    .dataframe tbody tr th:only-of-type {\n",
       "        vertical-align: middle;\n",
       "    }\n",
       "\n",
       "    .dataframe tbody tr th {\n",
       "        vertical-align: top;\n",
       "    }\n",
       "\n",
       "    .dataframe thead th {\n",
       "        text-align: right;\n",
       "    }\n",
       "</style>\n",
       "<table border=\"1\" class=\"dataframe\">\n",
       "  <thead>\n",
       "    <tr style=\"text-align: right;\">\n",
       "      <th></th>\n",
       "      <th>mid_price</th>\n",
       "      <th>bid</th>\n",
       "      <th>ask</th>\n",
       "    </tr>\n",
       "    <tr>\n",
       "      <th>datetime</th>\n",
       "      <th></th>\n",
       "      <th></th>\n",
       "      <th></th>\n",
       "    </tr>\n",
       "  </thead>\n",
       "  <tbody>\n",
       "    <tr>\n",
       "      <th>2021-02-14 00:24:41.800000-08:00</th>\n",
       "      <td>48916.855</td>\n",
       "      <td>48916.85</td>\n",
       "      <td>48916.86</td>\n",
       "    </tr>\n",
       "    <tr>\n",
       "      <th>2021-02-14 00:24:42-08:00</th>\n",
       "      <td>48916.855</td>\n",
       "      <td>48916.85</td>\n",
       "      <td>48916.86</td>\n",
       "    </tr>\n",
       "    <tr>\n",
       "      <th>2021-02-14 00:24:42.200000-08:00</th>\n",
       "      <td>48916.855</td>\n",
       "      <td>48916.85</td>\n",
       "      <td>48916.86</td>\n",
       "    </tr>\n",
       "    <tr>\n",
       "      <th>2021-02-14 00:24:42.400000-08:00</th>\n",
       "      <td>48916.855</td>\n",
       "      <td>48916.85</td>\n",
       "      <td>48916.86</td>\n",
       "    </tr>\n",
       "  </tbody>\n",
       "</table>\n",
       "</div>"
      ],
      "text/plain": [
       "                                  mid_price       bid       ask\n",
       "datetime                                                       \n",
       "2021-02-14 00:24:41.800000-08:00  48916.855  48916.85  48916.86\n",
       "2021-02-14 00:24:42-08:00         48916.855  48916.85  48916.86\n",
       "2021-02-14 00:24:42.200000-08:00  48916.855  48916.85  48916.86\n",
       "2021-02-14 00:24:42.400000-08:00  48916.855  48916.85  48916.86"
      ]
     },
     "execution_count": 8,
     "metadata": {},
     "output_type": "execute_result"
    }
   ],
   "source": [
    "df=df.resample('200ms', on='datetime').agg({'mid_price':'mean', 'bid':'mean','ask':'mean'})\n",
    "df.head(4)"
   ]
  },
  {
   "cell_type": "markdown",
   "id": "boolean-plant",
   "metadata": {},
   "source": [
    "The data is split into time intervals of 200 milliseconds and the average of the prices are taken"
   ]
  },
  {
   "cell_type": "code",
   "execution_count": 9,
   "id": "infectious-thing",
   "metadata": {
    "scrolled": false
   },
   "outputs": [
    {
     "data": {
      "text/html": [
       "<div>\n",
       "<style scoped>\n",
       "    .dataframe tbody tr th:only-of-type {\n",
       "        vertical-align: middle;\n",
       "    }\n",
       "\n",
       "    .dataframe tbody tr th {\n",
       "        vertical-align: top;\n",
       "    }\n",
       "\n",
       "    .dataframe thead th {\n",
       "        text-align: right;\n",
       "    }\n",
       "</style>\n",
       "<table border=\"1\" class=\"dataframe\">\n",
       "  <thead>\n",
       "    <tr style=\"text-align: right;\">\n",
       "      <th></th>\n",
       "      <th>mid_price</th>\n",
       "      <th>bid</th>\n",
       "      <th>ask</th>\n",
       "    </tr>\n",
       "    <tr>\n",
       "      <th>datetime</th>\n",
       "      <th></th>\n",
       "      <th></th>\n",
       "      <th></th>\n",
       "    </tr>\n",
       "  </thead>\n",
       "  <tbody>\n",
       "    <tr>\n",
       "      <th>2021-02-14 00:25:03.800000-08:00</th>\n",
       "      <td>NaN</td>\n",
       "      <td>NaN</td>\n",
       "      <td>NaN</td>\n",
       "    </tr>\n",
       "    <tr>\n",
       "      <th>2021-02-14 00:25:04-08:00</th>\n",
       "      <td>NaN</td>\n",
       "      <td>NaN</td>\n",
       "      <td>NaN</td>\n",
       "    </tr>\n",
       "    <tr>\n",
       "      <th>2021-02-14 00:25:04.200000-08:00</th>\n",
       "      <td>NaN</td>\n",
       "      <td>NaN</td>\n",
       "      <td>NaN</td>\n",
       "    </tr>\n",
       "    <tr>\n",
       "      <th>2021-02-14 00:25:04.400000-08:00</th>\n",
       "      <td>NaN</td>\n",
       "      <td>NaN</td>\n",
       "      <td>NaN</td>\n",
       "    </tr>\n",
       "    <tr>\n",
       "      <th>2021-02-14 00:25:04.600000-08:00</th>\n",
       "      <td>NaN</td>\n",
       "      <td>NaN</td>\n",
       "      <td>NaN</td>\n",
       "    </tr>\n",
       "    <tr>\n",
       "      <th>...</th>\n",
       "      <td>...</td>\n",
       "      <td>...</td>\n",
       "      <td>...</td>\n",
       "    </tr>\n",
       "    <tr>\n",
       "      <th>2021-02-24 23:27:10.200000-08:00</th>\n",
       "      <td>NaN</td>\n",
       "      <td>NaN</td>\n",
       "      <td>NaN</td>\n",
       "    </tr>\n",
       "    <tr>\n",
       "      <th>2021-02-24 23:30:01.200000-08:00</th>\n",
       "      <td>NaN</td>\n",
       "      <td>NaN</td>\n",
       "      <td>NaN</td>\n",
       "    </tr>\n",
       "    <tr>\n",
       "      <th>2021-02-24 23:35:50.200000-08:00</th>\n",
       "      <td>NaN</td>\n",
       "      <td>NaN</td>\n",
       "      <td>NaN</td>\n",
       "    </tr>\n",
       "    <tr>\n",
       "      <th>2021-02-24 23:38:33-08:00</th>\n",
       "      <td>NaN</td>\n",
       "      <td>NaN</td>\n",
       "      <td>NaN</td>\n",
       "    </tr>\n",
       "    <tr>\n",
       "      <th>2021-02-24 23:40:01.800000-08:00</th>\n",
       "      <td>NaN</td>\n",
       "      <td>NaN</td>\n",
       "      <td>NaN</td>\n",
       "    </tr>\n",
       "  </tbody>\n",
       "</table>\n",
       "<p>19663 rows × 3 columns</p>\n",
       "</div>"
      ],
      "text/plain": [
       "                                  mid_price  bid  ask\n",
       "datetime                                             \n",
       "2021-02-14 00:25:03.800000-08:00        NaN  NaN  NaN\n",
       "2021-02-14 00:25:04-08:00               NaN  NaN  NaN\n",
       "2021-02-14 00:25:04.200000-08:00        NaN  NaN  NaN\n",
       "2021-02-14 00:25:04.400000-08:00        NaN  NaN  NaN\n",
       "2021-02-14 00:25:04.600000-08:00        NaN  NaN  NaN\n",
       "...                                     ...  ...  ...\n",
       "2021-02-24 23:27:10.200000-08:00        NaN  NaN  NaN\n",
       "2021-02-24 23:30:01.200000-08:00        NaN  NaN  NaN\n",
       "2021-02-24 23:35:50.200000-08:00        NaN  NaN  NaN\n",
       "2021-02-24 23:38:33-08:00               NaN  NaN  NaN\n",
       "2021-02-24 23:40:01.800000-08:00        NaN  NaN  NaN\n",
       "\n",
       "[19663 rows x 3 columns]"
      ]
     },
     "execution_count": 9,
     "metadata": {},
     "output_type": "execute_result"
    }
   ],
   "source": [
    "df[df['mid_price'].isna()]"
   ]
  },
  {
   "cell_type": "markdown",
   "id": "foster-simulation",
   "metadata": {},
   "source": [
    "The above table shows that there is no prices data available in some of the equally splitted time interval(200ms). These missing value has to be imputed using some technique."
   ]
  },
  {
   "cell_type": "code",
   "execution_count": 10,
   "id": "described-kingston",
   "metadata": {},
   "outputs": [],
   "source": [
    "df.drop(['ask','bid'],axis=1, inplace=True)"
   ]
  },
  {
   "cell_type": "markdown",
   "id": "mysterious-savings",
   "metadata": {},
   "source": [
    "The ask prices and bid prices are dropped since it can't be included in the predictions of the mid prices as the mid prices are simply the average of the ask and bid prices"
   ]
  },
  {
   "cell_type": "markdown",
   "id": "recovered-holmes",
   "metadata": {},
   "source": [
    "An example of the method I have used to compute the missing values of prices is given below."
   ]
  },
  {
   "cell_type": "code",
   "execution_count": 11,
   "id": "cleared-victory",
   "metadata": {},
   "outputs": [
    {
     "name": "stdout",
     "output_type": "stream",
     "text": [
      "[10, 10, 10, 11.25, 12.5, 13.75, 15, 15, 15, 20, 22.5, 25]\n"
     ]
    }
   ],
   "source": [
    "a=[10,10,10,np.nan,np.nan,np.nan,15,15,15,20,np.nan,25]\n",
    "for i in range(len(a)):\n",
    "    if np.isnan([a[i]]):\n",
    "        for j in range(i+1,len(a)):\n",
    "            if np.isnan(a[j]) == False:\n",
    "                break\n",
    "        a[i:j]=np.linspace(a[i-1],a[j],j-i+2)[1:-1]        \n",
    "print(a)"
   ]
  },
  {
   "cell_type": "markdown",
   "id": "tribal-november",
   "metadata": {},
   "source": [
    "Filling the missing value with mean/mode of the prices would be irrelevant for bitcin prices. Instead of filling the previous bitcoin price in the data, I have computed a set of values for the steady increase/decrease of the stock prices for the time period of missing prices. This ensures that there won't be a sudden fluctuation even when the data is missing for a few minutes. "
   ]
  },
  {
   "cell_type": "code",
   "execution_count": 12,
   "id": "adaptive-compiler",
   "metadata": {},
   "outputs": [
    {
     "data": {
      "text/html": [
       "<div>\n",
       "<style scoped>\n",
       "    .dataframe tbody tr th:only-of-type {\n",
       "        vertical-align: middle;\n",
       "    }\n",
       "\n",
       "    .dataframe tbody tr th {\n",
       "        vertical-align: top;\n",
       "    }\n",
       "\n",
       "    .dataframe thead th {\n",
       "        text-align: right;\n",
       "    }\n",
       "</style>\n",
       "<table border=\"1\" class=\"dataframe\">\n",
       "  <thead>\n",
       "    <tr style=\"text-align: right;\">\n",
       "      <th></th>\n",
       "      <th>mid_price</th>\n",
       "    </tr>\n",
       "    <tr>\n",
       "      <th>datetime</th>\n",
       "      <th></th>\n",
       "    </tr>\n",
       "  </thead>\n",
       "  <tbody>\n",
       "  </tbody>\n",
       "</table>\n",
       "</div>"
      ],
      "text/plain": [
       "Empty DataFrame\n",
       "Columns: [mid_price]\n",
       "Index: []"
      ]
     },
     "execution_count": 12,
     "metadata": {},
     "output_type": "execute_result"
    }
   ],
   "source": [
    "df[df['mid_price'].isna()]\n",
    "mid_price=list(df['mid_price'])\n",
    "for i in range(len(mid_price)):\n",
    "    if np.isnan([mid_price[i]]):\n",
    "        for j in range(i+1,len(mid_price)):\n",
    "            if np.isnan(mid_price[j]) == False:\n",
    "                break\n",
    "        mid_price[i:j]=np.linspace(mid_price[i-1],mid_price[j],j-i+2)[1:-1]\n",
    "df.loc[:,'mid_price']=mid_price\n",
    "df[df['mid_price'].isna()]"
   ]
  },
  {
   "cell_type": "markdown",
   "id": "daily-roller",
   "metadata": {},
   "source": [
    "All the missing values are imputed using the above method"
   ]
  },
  {
   "cell_type": "markdown",
   "id": "behind-canadian",
   "metadata": {},
   "source": [
    "### we require only the mid price value, so we subset that and convert it to numpy array"
   ]
  },
  {
   "cell_type": "code",
   "execution_count": 13,
   "id": "nonprofit-shannon",
   "metadata": {},
   "outputs": [
    {
     "data": {
      "text/plain": [
       "array([[48916.855],\n",
       "       [48916.855],\n",
       "       [48916.855],\n",
       "       ...,\n",
       "       [50482.254],\n",
       "       [50482.254],\n",
       "       [50482.254]], dtype=float32)"
      ]
     },
     "execution_count": 13,
     "metadata": {},
     "output_type": "execute_result"
    }
   ],
   "source": [
    "df = df[['mid_price']]\n",
    "dataset = df.values\n",
    "dataset = dataset.astype('float32')\n",
    "dataset"
   ]
  },
  {
   "cell_type": "markdown",
   "id": "numerous-conservative",
   "metadata": {},
   "source": [
    "Usually column standardization wont be neccessary if the columns is of the same scale. But neural networks are sensitive to input data, especiallly when we are using activation functions like sigmoid or tanh activation functions are used. So we rescale our data to the range of 0-to-1, using StandardScaler"
   ]
  },
  {
   "cell_type": "code",
   "execution_count": 14,
   "id": "studied-corruption",
   "metadata": {},
   "outputs": [],
   "source": [
    "scaler = StandardScaler()\n",
    "dataset = scaler.fit_transform(dataset)"
   ]
  },
  {
   "cell_type": "markdown",
   "id": "collectible-oklahoma",
   "metadata": {},
   "source": [
    "The bitcoin prices can shoot above the given maximum or minimum price in the dataset. Hence we will use StandardScalar instead of Min-Max Scalar for standardization "
   ]
  },
  {
   "cell_type": "code",
   "execution_count": 15,
   "id": "cooked-basics",
   "metadata": {
    "scrolled": true
   },
   "outputs": [
    {
     "data": {
      "text/plain": [
       "array([[-0.8725896],\n",
       "       [-0.8725896],\n",
       "       [-0.8725896],\n",
       "       ...,\n",
       "       [-0.3852171],\n",
       "       [-0.3852171],\n",
       "       [-0.3852171]], dtype=float32)"
      ]
     },
     "execution_count": 15,
     "metadata": {},
     "output_type": "execute_result"
    }
   ],
   "source": [
    "dataset"
   ]
  },
  {
   "cell_type": "markdown",
   "id": "unlikely-testament",
   "metadata": {},
   "source": [
    "## Train-Test Split: Time Based Splitting"
   ]
  },
  {
   "cell_type": "code",
   "execution_count": 16,
   "id": "brief-cuisine",
   "metadata": {},
   "outputs": [
    {
     "name": "stdout",
     "output_type": "stream",
     "text": [
      "3321213 1423378\n"
     ]
    }
   ],
   "source": [
    "train_size = int(len(dataset) * 0.70)\n",
    "test_size = len(dataset) - train_size\n",
    "train, test = dataset[0:train_size, :], dataset[train_size:len(dataset), :]\n",
    "print(len(train), len(test))"
   ]
  },
  {
   "cell_type": "markdown",
   "id": "nonprofit-bobby",
   "metadata": {},
   "source": [
    "The function called create_dataset, which take two inputs, \n",
    "\n",
    "1. Dataset - numpy array that we want to convert into a dataset\n",
    "2. look_back - number of previous time steps to use as input variables to predict the next time period\n"
   ]
  },
  {
   "cell_type": "code",
   "execution_count": 17,
   "id": "unknown-studio",
   "metadata": {},
   "outputs": [],
   "source": [
    "# convert an array of values into a dataset matrix\n",
    "def create_dataset(dataset, look_back=1):\n",
    "    dataX, dataY = [], []\n",
    "    for i in range(len(dataset)-look_back-1):\n",
    "        a = dataset[i:(i+look_back), 0]\n",
    "        dataX.append(a)\n",
    "        dataY.append(dataset[i + look_back, 0])\n",
    "    return np.array(dataX), np.array(dataY)"
   ]
  },
  {
   "cell_type": "code",
   "execution_count": 24,
   "id": "selected-supplement",
   "metadata": {},
   "outputs": [],
   "source": [
    "look_back = 10\n",
    "trainX, trainY = create_dataset(train, look_back=look_back)\n",
    "testX, testY = create_dataset(test, look_back=look_back)"
   ]
  },
  {
   "cell_type": "code",
   "execution_count": 25,
   "id": "internal-share",
   "metadata": {},
   "outputs": [
    {
     "data": {
      "text/plain": [
       "array([[-0.8725896, -0.8725896, -0.8725896, ..., -0.8725896, -0.8725896,\n",
       "        -0.8725896],\n",
       "       [-0.8725896, -0.8725896, -0.8725896, ..., -0.8725896, -0.8725896,\n",
       "        -0.8725896],\n",
       "       [-0.8725896, -0.8725896, -0.8725896, ..., -0.8725896, -0.8725896,\n",
       "        -0.8725896],\n",
       "       ...,\n",
       "       [ 1.4950176,  1.4950176,  1.4955127, ...,  1.4955127,  1.4955127,\n",
       "         1.4955127],\n",
       "       [ 1.4950176,  1.4955127,  1.4955127, ...,  1.4955127,  1.4955127,\n",
       "         1.4955127],\n",
       "       [ 1.4955127,  1.4955127,  1.4955127, ...,  1.4955127,  1.4955127,\n",
       "         1.4955127]], dtype=float32)"
      ]
     },
     "execution_count": 25,
     "metadata": {},
     "output_type": "execute_result"
    }
   ],
   "source": [
    "trainX"
   ]
  },
  {
   "cell_type": "code",
   "execution_count": 26,
   "id": "technical-cartoon",
   "metadata": {},
   "outputs": [
    {
     "data": {
      "text/plain": [
       "array([-0.8725896, -0.8725896, -0.8725896, ...,  1.4955127,  1.4955127,\n",
       "        1.50055  ], dtype=float32)"
      ]
     },
     "execution_count": 26,
     "metadata": {},
     "output_type": "execute_result"
    }
   ],
   "source": [
    "trainY"
   ]
  },
  {
   "cell_type": "code",
   "execution_count": 27,
   "id": "african-height",
   "metadata": {},
   "outputs": [],
   "source": [
    "# reshape input to be [samples, time steps, features]\n",
    "trainX = np.reshape(trainX, (trainX.shape[0], 1, trainX.shape[1]))\n",
    "testX = np.reshape(testX, (testX.shape[0], 1, testX.shape[1]))"
   ]
  },
  {
   "cell_type": "markdown",
   "id": "vietnamese-yorkshire",
   "metadata": {},
   "source": [
    "## 4. Model Building & Evaluation"
   ]
  },
  {
   "cell_type": "markdown",
   "id": "skilled-musical",
   "metadata": {},
   "source": [
    "## Stacked LSTM model"
   ]
  },
  {
   "cell_type": "code",
   "execution_count": 30,
   "id": "square-newfoundland",
   "metadata": {},
   "outputs": [],
   "source": [
    "model = Sequential()\n",
    "model.add(LSTM(10,return_sequences=True, input_shape=(1, look_back)))\n",
    "model.add(LSTM(10))\n",
    "model.add(Dense(1))\n",
    "model.compile(loss='mean_squared_error', optimizer='adam')"
   ]
  },
  {
   "cell_type": "code",
   "execution_count": 39,
   "id": "burning-month",
   "metadata": {},
   "outputs": [],
   "source": [
    "file = open('model.json', 'r')\n",
    "loaded  = file.read()\n",
    "file.close()\n",
    "\n",
    "model = model_from_json(loaded)\n",
    "model.load_weights('lstm_best_bit_coin_prediction.h5')\n",
    "model.compile(loss='mean_squared_error', optimizer='adam')"
   ]
  },
  {
   "cell_type": "code",
   "execution_count": 31,
   "id": "hairy-penny",
   "metadata": {},
   "outputs": [
    {
     "name": "stdout",
     "output_type": "stream",
     "text": [
      "Model: \"sequential_1\"\n",
      "_________________________________________________________________\n",
      "Layer (type)                 Output Shape              Param #   \n",
      "=================================================================\n",
      "lstm_2 (LSTM)                (None, 1, 10)             840       \n",
      "_________________________________________________________________\n",
      "lstm_3 (LSTM)                (None, 10)                840       \n",
      "_________________________________________________________________\n",
      "dense_1 (Dense)              (None, 1)                 11        \n",
      "=================================================================\n",
      "Total params: 1,691\n",
      "Trainable params: 1,691\n",
      "Non-trainable params: 0\n",
      "_________________________________________________________________\n"
     ]
    }
   ],
   "source": [
    "model.summary()"
   ]
  },
  {
   "cell_type": "code",
   "execution_count": 32,
   "id": "thirty-ownership",
   "metadata": {
    "scrolled": true
   },
   "outputs": [
    {
     "name": "stdout",
     "output_type": "stream",
     "text": [
      "Epoch 1/100\n",
      "12974/12974 [==============================] - 30s 2ms/step - loss: 0.0076 - val_loss: 3.4339e-05\n",
      "Epoch 2/100\n",
      "12974/12974 [==============================] - 27s 2ms/step - loss: 6.4244e-06 - val_loss: 2.2549e-05\n",
      "Epoch 3/100\n",
      "12974/12974 [==============================] - 26s 2ms/step - loss: 5.0979e-06 - val_loss: 1.7411e-05\n",
      "Epoch 4/100\n",
      "12974/12974 [==============================] - 25s 2ms/step - loss: 4.3081e-06 - val_loss: 1.1967e-05\n",
      "Epoch 5/100\n",
      "12974/12974 [==============================] - 26s 2ms/step - loss: 3.7734e-06 - val_loss: 1.0743e-05\n",
      "Epoch 6/100\n",
      "12974/12974 [==============================] - 26s 2ms/step - loss: 3.3611e-06 - val_loss: 8.5712e-06\n",
      "Epoch 7/100\n",
      "12974/12974 [==============================] - 29s 2ms/step - loss: 3.2512e-06 - val_loss: 7.1559e-06\n",
      "Epoch 8/100\n",
      "12974/12974 [==============================] - 26s 2ms/step - loss: 2.9442e-06 - val_loss: 9.5928e-06\n",
      "Epoch 9/100\n",
      "12974/12974 [==============================] - 25s 2ms/step - loss: 2.8041e-06 - val_loss: 6.3846e-06\n",
      "Epoch 10/100\n",
      "12974/12974 [==============================] - 24s 2ms/step - loss: 2.7671e-06 - val_loss: 5.9128e-06\n",
      "Epoch 11/100\n",
      "12974/12974 [==============================] - 25s 2ms/step - loss: 2.6137e-06 - val_loss: 5.3826e-06\n",
      "Epoch 12/100\n",
      "12974/12974 [==============================] - 27s 2ms/step - loss: 2.5463e-06 - val_loss: 7.0012e-06\n",
      "Epoch 13/100\n",
      "12974/12974 [==============================] - 25s 2ms/step - loss: 2.4210e-06 - val_loss: 5.2883e-06\n",
      "Epoch 14/100\n",
      "12974/12974 [==============================] - 25s 2ms/step - loss: 2.4110e-06 - val_loss: 5.4332e-06\n",
      "Epoch 15/100\n",
      "12974/12974 [==============================] - 25s 2ms/step - loss: 2.3548e-06 - val_loss: 6.4699e-06\n",
      "Epoch 16/100\n",
      "12974/12974 [==============================] - 25s 2ms/step - loss: 2.3110e-06 - val_loss: 5.4892e-06\n",
      "Epoch 17/100\n",
      "12974/12974 [==============================] - 24s 2ms/step - loss: 2.2423e-06 - val_loss: 5.1057e-06\n",
      "Epoch 18/100\n",
      "12974/12974 [==============================] - 25s 2ms/step - loss: 2.2012e-06 - val_loss: 6.0340e-06\n",
      "Epoch 19/100\n",
      "12974/12974 [==============================] - 25s 2ms/step - loss: 2.1195e-06 - val_loss: 6.0076e-06\n",
      "Epoch 20/100\n",
      "12974/12974 [==============================] - 25s 2ms/step - loss: 2.1436e-06 - val_loss: 4.9129e-06\n",
      "Epoch 21/100\n",
      "12974/12974 [==============================] - 25s 2ms/step - loss: 2.0583e-06 - val_loss: 6.9623e-06\n",
      "Epoch 22/100\n",
      "12974/12974 [==============================] - 25s 2ms/step - loss: 2.0289e-06 - val_loss: 6.1482e-06\n",
      "Epoch 23/100\n",
      "12974/12974 [==============================] - 27s 2ms/step - loss: 2.0299e-06 - val_loss: 7.0011e-06\n",
      "Epoch 24/100\n",
      "12974/12974 [==============================] - 27s 2ms/step - loss: 1.9572e-06 - val_loss: 6.5680e-06\n",
      "Epoch 25/100\n",
      "12974/12974 [==============================] - 24s 2ms/step - loss: 1.9814e-06 - val_loss: 5.2669e-06\n",
      "Epoch 26/100\n",
      "12974/12974 [==============================] - 25s 2ms/step - loss: 1.8791e-06 - val_loss: 5.3113e-06\n",
      "Epoch 27/100\n",
      "12974/12974 [==============================] - 25s 2ms/step - loss: 1.8982e-06 - val_loss: 5.4203e-06\n",
      "Epoch 28/100\n",
      "12974/12974 [==============================] - 25s 2ms/step - loss: 1.8532e-06 - val_loss: 6.6793e-06\n",
      "Epoch 29/100\n",
      "12974/12974 [==============================] - 25s 2ms/step - loss: 1.8384e-06 - val_loss: 5.4397e-06\n",
      "Epoch 30/100\n",
      "12974/12974 [==============================] - 26s 2ms/step - loss: 1.7869e-06 - val_loss: 8.9909e-06\n",
      "Epoch 31/100\n",
      "12974/12974 [==============================] - 25s 2ms/step - loss: 1.8268e-06 - val_loss: 5.1164e-06\n",
      "Epoch 32/100\n",
      "12974/12974 [==============================] - 25s 2ms/step - loss: 1.7346e-06 - val_loss: 5.2201e-06\n",
      "Epoch 33/100\n",
      "12974/12974 [==============================] - 25s 2ms/step - loss: 1.7584e-06 - val_loss: 7.1669e-06\n",
      "Epoch 34/100\n",
      "12974/12974 [==============================] - 25s 2ms/step - loss: 1.7200e-06 - val_loss: 7.3093e-06\n",
      "Epoch 35/100\n",
      "12974/12974 [==============================] - 25s 2ms/step - loss: 1.7169e-06 - val_loss: 4.9924e-06\n",
      "Epoch 36/100\n",
      "12974/12974 [==============================] - 25s 2ms/step - loss: 1.7000e-06 - val_loss: 4.7490e-06\n",
      "Epoch 37/100\n",
      "12974/12974 [==============================] - 25s 2ms/step - loss: 1.6775e-06 - val_loss: 5.1337e-06\n",
      "Epoch 38/100\n",
      "12974/12974 [==============================] - 25s 2ms/step - loss: 1.6408e-06 - val_loss: 5.4596e-06\n",
      "Epoch 39/100\n",
      "12974/12974 [==============================] - 25s 2ms/step - loss: 1.6387e-06 - val_loss: 6.4021e-06\n",
      "Epoch 40/100\n",
      "12974/12974 [==============================] - 26s 2ms/step - loss: 1.6209e-06 - val_loss: 6.6684e-06\n",
      "Epoch 41/100\n",
      "12974/12974 [==============================] - 25s 2ms/step - loss: 1.6005e-06 - val_loss: 5.4023e-06\n",
      "Epoch 42/100\n",
      "12974/12974 [==============================] - 26s 2ms/step - loss: 1.5860e-06 - val_loss: 4.7329e-06\n",
      "Epoch 43/100\n",
      "12974/12974 [==============================] - 25s 2ms/step - loss: 1.5501e-06 - val_loss: 4.7958e-06\n",
      "Epoch 44/100\n",
      "12974/12974 [==============================] - 26s 2ms/step - loss: 1.5598e-06 - val_loss: 5.0714e-06\n",
      "Epoch 45/100\n",
      "12974/12974 [==============================] - 26s 2ms/step - loss: 1.5227e-06 - val_loss: 4.4297e-06\n",
      "Epoch 46/100\n",
      "12974/12974 [==============================] - 25s 2ms/step - loss: 1.5326e-06 - val_loss: 7.1588e-06\n",
      "Epoch 47/100\n",
      "12974/12974 [==============================] - 25s 2ms/step - loss: 1.5184e-06 - val_loss: 4.5270e-06\n",
      "Epoch 48/100\n",
      "12974/12974 [==============================] - 25s 2ms/step - loss: 1.5036e-06 - val_loss: 5.6584e-06\n",
      "Epoch 49/100\n",
      "12974/12974 [==============================] - 25s 2ms/step - loss: 1.4941e-06 - val_loss: 9.4966e-06\n",
      "Epoch 50/100\n",
      "12974/12974 [==============================] - 26s 2ms/step - loss: 1.4810e-06 - val_loss: 4.7306e-06\n",
      "Epoch 51/100\n",
      "12974/12974 [==============================] - 25s 2ms/step - loss: 1.4601e-06 - val_loss: 4.7635e-06\n",
      "Epoch 52/100\n",
      "12974/12974 [==============================] - 25s 2ms/step - loss: 1.4516e-06 - val_loss: 4.6346e-06\n",
      "Epoch 53/100\n",
      "12974/12974 [==============================] - 25s 2ms/step - loss: 1.4285e-06 - val_loss: 4.4448e-06\n",
      "Epoch 54/100\n",
      "12974/12974 [==============================] - 25s 2ms/step - loss: 1.4333e-06 - val_loss: 7.1383e-06\n",
      "Epoch 55/100\n",
      "12974/12974 [==============================] - 25s 2ms/step - loss: 1.4086e-06 - val_loss: 4.1864e-06\n",
      "Epoch 56/100\n",
      "12974/12974 [==============================] - 25s 2ms/step - loss: 1.4143e-06 - val_loss: 5.0442e-06\n",
      "Epoch 57/100\n",
      "12974/12974 [==============================] - 25s 2ms/step - loss: 1.3836e-06 - val_loss: 4.6855e-06\n",
      "Epoch 58/100\n",
      "12974/12974 [==============================] - 25s 2ms/step - loss: 1.4072e-06 - val_loss: 4.9954e-06\n",
      "Epoch 59/100\n",
      "12974/12974 [==============================] - 25s 2ms/step - loss: 1.3620e-06 - val_loss: 4.8956e-06\n",
      "Epoch 60/100\n",
      "12974/12974 [==============================] - 25s 2ms/step - loss: 1.3628e-06 - val_loss: 5.3574e-06\n",
      "Epoch 61/100\n",
      "12974/12974 [==============================] - 25s 2ms/step - loss: 1.3561e-06 - val_loss: 5.9124e-06\n",
      "Epoch 62/100\n",
      "12974/12974 [==============================] - 26s 2ms/step - loss: 1.3529e-06 - val_loss: 5.0477e-06\n",
      "Epoch 63/100\n",
      "12974/12974 [==============================] - 26s 2ms/step - loss: 1.3533e-06 - val_loss: 6.5340e-06\n",
      "Epoch 64/100\n",
      "12974/12974 [==============================] - 26s 2ms/step - loss: 1.3503e-06 - val_loss: 4.2895e-06\n",
      "Epoch 65/100\n",
      "12974/12974 [==============================] - 25s 2ms/step - loss: 1.3020e-06 - val_loss: 4.9330e-06\n",
      "Epoch 66/100\n",
      "12974/12974 [==============================] - 26s 2ms/step - loss: 1.3307e-06 - val_loss: 6.7732e-06\n",
      "Epoch 67/100\n",
      "12974/12974 [==============================] - 25s 2ms/step - loss: 1.3140e-06 - val_loss: 4.6393e-06\n",
      "Epoch 68/100\n",
      "12974/12974 [==============================] - 25s 2ms/step - loss: 1.3109e-06 - val_loss: 5.0450e-06\n",
      "Epoch 69/100\n",
      "12974/12974 [==============================] - 26s 2ms/step - loss: 1.3279e-06 - val_loss: 4.5214e-06\n",
      "Epoch 70/100\n",
      "12974/12974 [==============================] - 25s 2ms/step - loss: 1.3032e-06 - val_loss: 4.6469e-06\n",
      "Epoch 71/100\n",
      "12974/12974 [==============================] - 25s 2ms/step - loss: 1.2981e-06 - val_loss: 4.7850e-06\n",
      "Epoch 72/100\n",
      "12974/12974 [==============================] - 25s 2ms/step - loss: 1.3014e-06 - val_loss: 4.2349e-06\n",
      "Epoch 73/100\n",
      "12974/12974 [==============================] - 26s 2ms/step - loss: 1.2950e-06 - val_loss: 4.5487e-06\n",
      "Epoch 74/100\n",
      "12974/12974 [==============================] - 25s 2ms/step - loss: 1.2726e-06 - val_loss: 6.1679e-06\n",
      "Epoch 75/100\n",
      "12974/12974 [==============================] - 25s 2ms/step - loss: 1.2857e-06 - val_loss: 7.6647e-06\n",
      "Epoch 76/100\n",
      "12974/12974 [==============================] - 25s 2ms/step - loss: 1.2825e-06 - val_loss: 5.0114e-06\n",
      "Epoch 77/100\n",
      "12974/12974 [==============================] - 25s 2ms/step - loss: 1.2750e-06 - val_loss: 4.2744e-06\n",
      "Epoch 78/100\n",
      "12974/12974 [==============================] - 25s 2ms/step - loss: 1.2493e-06 - val_loss: 5.4826e-06\n",
      "Epoch 79/100\n",
      "12974/12974 [==============================] - 25s 2ms/step - loss: 1.2379e-06 - val_loss: 4.4831e-06\n",
      "Epoch 80/100\n",
      "12974/12974 [==============================] - 25s 2ms/step - loss: 1.2462e-06 - val_loss: 5.0651e-06\n",
      "Epoch 81/100\n",
      "12974/12974 [==============================] - 25s 2ms/step - loss: 1.2550e-06 - val_loss: 4.8813e-06\n",
      "Epoch 82/100\n",
      "12974/12974 [==============================] - 25s 2ms/step - loss: 1.2370e-06 - val_loss: 4.6825e-06\n",
      "Epoch 83/100\n",
      "12974/12974 [==============================] - 25s 2ms/step - loss: 1.2557e-06 - val_loss: 4.6199e-06\n",
      "Epoch 84/100\n",
      "12974/12974 [==============================] - 25s 2ms/step - loss: 1.2332e-06 - val_loss: 4.4899e-06\n",
      "Epoch 85/100\n",
      "12974/12974 [==============================] - 25s 2ms/step - loss: 1.2398e-06 - val_loss: 4.6423e-06\n",
      "Epoch 86/100\n",
      "12974/12974 [==============================] - 25s 2ms/step - loss: 1.2266e-06 - val_loss: 4.9681e-06\n",
      "Epoch 87/100\n",
      "12974/12974 [==============================] - 25s 2ms/step - loss: 1.2211e-06 - val_loss: 4.4251e-06\n",
      "Epoch 88/100\n",
      "12974/12974 [==============================] - 25s 2ms/step - loss: 1.2161e-06 - val_loss: 4.2741e-06\n",
      "Epoch 89/100\n",
      "12974/12974 [==============================] - 25s 2ms/step - loss: 1.2197e-06 - val_loss: 4.3369e-06\n",
      "Epoch 90/100\n",
      "12974/12974 [==============================] - 25s 2ms/step - loss: 1.2088e-06 - val_loss: 4.4559e-06\n",
      "Epoch 91/100\n",
      "12974/12974 [==============================] - 25s 2ms/step - loss: 1.2078e-06 - val_loss: 4.4818e-06\n",
      "Epoch 92/100\n",
      "12974/12974 [==============================] - 25s 2ms/step - loss: 1.1990e-06 - val_loss: 4.9961e-06\n",
      "Epoch 93/100\n",
      "12974/12974 [==============================] - 25s 2ms/step - loss: 1.1974e-06 - val_loss: 4.1070e-06\n",
      "Epoch 94/100\n",
      "12974/12974 [==============================] - 25s 2ms/step - loss: 1.1982e-06 - val_loss: 4.0793e-06\n",
      "Epoch 95/100\n",
      "12974/12974 [==============================] - 25s 2ms/step - loss: 1.1824e-06 - val_loss: 5.9942e-06\n",
      "Epoch 96/100\n",
      "12974/12974 [==============================] - 25s 2ms/step - loss: 1.2007e-06 - val_loss: 4.5734e-06\n",
      "Epoch 97/100\n",
      "12974/12974 [==============================] - 25s 2ms/step - loss: 1.1859e-06 - val_loss: 4.4962e-06\n",
      "Epoch 98/100\n",
      "12974/12974 [==============================] - 25s 2ms/step - loss: 1.1815e-06 - val_loss: 4.9894e-06\n",
      "Epoch 99/100\n",
      "12974/12974 [==============================] - 25s 2ms/step - loss: 1.1765e-06 - val_loss: 4.0274e-06\n",
      "Epoch 100/100\n",
      "12974/12974 [==============================] - 26s 2ms/step - loss: 1.1682e-06 - val_loss: 4.2423e-06\n"
     ]
    },
    {
     "data": {
      "text/plain": [
       "<tensorflow.python.keras.callbacks.History at 0x1d320829c10>"
      ]
     },
     "execution_count": 32,
     "metadata": {},
     "output_type": "execute_result"
    }
   ],
   "source": [
    "model.fit(trainX, trainY, validation_data=(testX,testY), epochs=100, batch_size=256, verbose=1)"
   ]
  },
  {
   "cell_type": "markdown",
   "id": "level-palestinian",
   "metadata": {},
   "source": [
    "## Save Model architecture and weights"
   ]
  },
  {
   "cell_type": "code",
   "execution_count": 36,
   "id": "promotional-reform",
   "metadata": {},
   "outputs": [
    {
     "name": "stdout",
     "output_type": "stream",
     "text": [
      "Saved model to disk\n"
     ]
    }
   ],
   "source": [
    "model_json = model.to_json()\n",
    "with open(\"model.json\", \"w\") as json_file:\n",
    "    json_file.write(model_json)\n",
    "model.save_weights(\"lstm_best_bit_coin_prediction.h5\")\n",
    "print(\"Saved model to disk\")"
   ]
  },
  {
   "cell_type": "markdown",
   "id": "further-claim",
   "metadata": {},
   "source": [
    "## Predicting Bitcoin prices"
   ]
  },
  {
   "cell_type": "code",
   "execution_count": 33,
   "id": "straight-rugby",
   "metadata": {},
   "outputs": [],
   "source": [
    "trainPredict = model.predict(trainX)\n",
    "testPredict = model.predict(testX)"
   ]
  },
  {
   "cell_type": "markdown",
   "id": "specialized-grade",
   "metadata": {},
   "source": [
    "We have to invert the predictions before calculating error to so that reports will be in same units as our original data"
   ]
  },
  {
   "cell_type": "code",
   "execution_count": 34,
   "id": "spoken-temple",
   "metadata": {},
   "outputs": [],
   "source": [
    "trainPredict = scaler.inverse_transform(trainPredict)\n",
    "trainY = scaler.inverse_transform([trainY])\n",
    "testPredict = scaler.inverse_transform(testPredict)\n",
    "testY = scaler.inverse_transform([testY])"
   ]
  },
  {
   "cell_type": "code",
   "execution_count": 35,
   "id": "divine-retreat",
   "metadata": {
    "scrolled": true
   },
   "outputs": [
    {
     "name": "stdout",
     "output_type": "stream",
     "text": [
      "Train Score: 2.62 RMSE\n",
      "Test Score: 6.62 RMSE\n"
     ]
    }
   ],
   "source": [
    "trainScore = math.sqrt(mean_squared_error(trainY[0], trainPredict[:, 0]))\n",
    "print('Train Score: %.2f RMSE' % (trainScore))\n",
    "testScore = math.sqrt(mean_squared_error(testY[0], testPredict[:, 0]))\n",
    "print('Test Score: %.2f RMSE' % (testScore))\n"
   ]
  },
  {
   "cell_type": "markdown",
   "id": "designed-filling",
   "metadata": {},
   "source": [
    "The hyperparameters such as epoch,optimizers and batch_sizes were tuned to get the best model with the least root mean square error"
   ]
  },
  {
   "cell_type": "markdown",
   "id": "blocked-sacramento",
   "metadata": {},
   "source": [
    "# 5. Plotting Results"
   ]
  },
  {
   "cell_type": "markdown",
   "id": "apart-heavy",
   "metadata": {},
   "source": [
    "## Plotting Predicted Bitcoin Prices"
   ]
  },
  {
   "cell_type": "code",
   "execution_count": 40,
   "id": "formed-barcelona",
   "metadata": {},
   "outputs": [],
   "source": [
    "# shift train predictions for plotting\n",
    "trainPredictPlot = np.empty_like(dataset)\n",
    "trainPredictPlot[:, :] = np.nan\n",
    "trainPredictPlot[look_back:len(trainPredict) + look_back, :] = trainPredict\n",
    " "
   ]
  },
  {
   "cell_type": "code",
   "execution_count": 41,
   "id": "seven-puzzle",
   "metadata": {},
   "outputs": [],
   "source": [
    " # shift test predictions for plotting\n",
    "testPredictPlot = np.empty_like(dataset)\n",
    "testPredictPlot[:, :] = np.nan\n",
    "testPredictPlot[len(trainPredict) + (look_back * 2) + 1:len(dataset) - 1, :] = testPredict"
   ]
  },
  {
   "cell_type": "code",
   "execution_count": 42,
   "id": "vulnerable-liberty",
   "metadata": {},
   "outputs": [
    {
     "data": {
      "image/png": "[encoded data removed]",
      "text/plain": [
       "<Figure size 432x288 with 1 Axes>"
      ]
     },
     "metadata": {
      "needs_background": "light"
     },
     "output_type": "display_data"
    }
   ],
   "source": [
    "plt.plot(df['mid_price'], label='Actual')\n",
    "plt.title('Mid Price Chart')\n",
    "plt.xlabel('Date')\n",
    "plt.ylabel('Price')\n",
    "plt.show()"
   ]
  },
  {
   "cell_type": "code",
   "execution_count": 43,
   "id": "functional-spouse",
   "metadata": {
    "scrolled": true
   },
   "outputs": [
    {
     "data": {
      "image/png": "[encoded data removed]",
      "text/plain": [
       "<Figure size 432x288 with 1 Axes>"
      ]
     },
     "metadata": {
      "needs_background": "light"
     },
     "output_type": "display_data"
    }
   ],
   "source": [
    "plt.plot(df['mid_price'], label='Actual')\n",
    "plt.plot(pd.DataFrame(trainPredictPlot, columns=[\"close\"], index=df.index).close, label='Training')\n",
    "plt.plot(pd.DataFrame(testPredictPlot, columns=[\"close\"], index=df.index).close, label='Testing')\n",
    "plt.legend(loc='best')\n",
    "\n",
    "plt.show()"
   ]
  },
  {
   "cell_type": "markdown",
   "id": "informational-national",
   "metadata": {},
   "source": [
    "The predicted prices are appended to the orginal dataset"
   ]
  },
  {
   "cell_type": "code",
   "execution_count": 45,
   "id": "occasional-kansas",
   "metadata": {
    "scrolled": true
   },
   "outputs": [
    {
     "name": "stdout",
     "output_type": "stream",
     "text": [
      "4744591\n"
     ]
    }
   ],
   "source": [
    "pred_price=np.empty_like(dataset.reshape(len(dataset)))\n",
    "pred_price[look_back:len(trainPredict) + look_back]=trainPredict.reshape(len(trainPredict))\n",
    "pred_price[len(trainPredict) + (look_back * 2) + 1:len(dataset) - 1]=testPredict.reshape(len(testPredict))\n",
    "print(len(pred_price))\n",
    "df.loc[:,'pred_price']=pred_price\n",
    "df=df[look_back:-1] #first 10 rows are skipped since it is used to compute future prices"
   ]
  },
  {
   "cell_type": "markdown",
   "id": "continued-calgary",
   "metadata": {},
   "source": [
    "## Predicting directionality of the mid-price movement using predicted prices"
   ]
  },
  {
   "cell_type": "code",
   "execution_count": 71,
   "id": "assisted-eagle",
   "metadata": {},
   "outputs": [
    {
     "data": {
      "text/html": [
       "<div>\n",
       "<style scoped>\n",
       "    .dataframe tbody tr th:only-of-type {\n",
       "        vertical-align: middle;\n",
       "    }\n",
       "\n",
       "    .dataframe tbody tr th {\n",
       "        vertical-align: top;\n",
       "    }\n",
       "\n",
       "    .dataframe thead th {\n",
       "        text-align: right;\n",
       "    }\n",
       "</style>\n",
       "<table border=\"1\" class=\"dataframe\">\n",
       "  <thead>\n",
       "    <tr style=\"text-align: right;\">\n",
       "      <th></th>\n",
       "      <th>mid_price</th>\n",
       "      <th>pred_price</th>\n",
       "      <th>price_movement</th>\n",
       "    </tr>\n",
       "    <tr>\n",
       "      <th>datetime</th>\n",
       "      <th></th>\n",
       "      <th></th>\n",
       "      <th></th>\n",
       "    </tr>\n",
       "  </thead>\n",
       "  <tbody>\n",
       "    <tr>\n",
       "      <th>2021-02-14 00:24:55.800000-08:00</th>\n",
       "      <td>48916.905000</td>\n",
       "      <td>48916.328125</td>\n",
       "      <td>Downward</td>\n",
       "    </tr>\n",
       "    <tr>\n",
       "      <th>2021-02-14 00:24:56-08:00</th>\n",
       "      <td>48916.750714</td>\n",
       "      <td>48916.328125</td>\n",
       "      <td>Downward</td>\n",
       "    </tr>\n",
       "    <tr>\n",
       "      <th>2021-02-14 00:24:56.200000-08:00</th>\n",
       "      <td>48916.725000</td>\n",
       "      <td>48916.195312</td>\n",
       "      <td>Downward</td>\n",
       "    </tr>\n",
       "    <tr>\n",
       "      <th>2021-02-14 00:24:56.400000-08:00</th>\n",
       "      <td>48916.725000</td>\n",
       "      <td>48916.152344</td>\n",
       "      <td>Downward</td>\n",
       "    </tr>\n",
       "    <tr>\n",
       "      <th>2021-02-14 00:24:56.600000-08:00</th>\n",
       "      <td>48916.725000</td>\n",
       "      <td>48916.148438</td>\n",
       "      <td>Downward</td>\n",
       "    </tr>\n",
       "    <tr>\n",
       "      <th>2021-02-14 00:24:56.800000-08:00</th>\n",
       "      <td>48916.725000</td>\n",
       "      <td>48916.144531</td>\n",
       "      <td>Downward</td>\n",
       "    </tr>\n",
       "    <tr>\n",
       "      <th>2021-02-14 00:24:57-08:00</th>\n",
       "      <td>48916.725000</td>\n",
       "      <td>48916.156250</td>\n",
       "      <td>Upward</td>\n",
       "    </tr>\n",
       "    <tr>\n",
       "      <th>2021-02-14 00:24:57.200000-08:00</th>\n",
       "      <td>48916.725000</td>\n",
       "      <td>48916.148438</td>\n",
       "      <td>Downward</td>\n",
       "    </tr>\n",
       "    <tr>\n",
       "      <th>2021-02-14 00:24:57.400000-08:00</th>\n",
       "      <td>48916.725000</td>\n",
       "      <td>48916.152344</td>\n",
       "      <td>Upward</td>\n",
       "    </tr>\n",
       "    <tr>\n",
       "      <th>2021-02-14 00:24:57.600000-08:00</th>\n",
       "      <td>48916.725000</td>\n",
       "      <td>48916.152344</td>\n",
       "      <td>Downward</td>\n",
       "    </tr>\n",
       "  </tbody>\n",
       "</table>\n",
       "</div>"
      ],
      "text/plain": [
       "                                     mid_price    pred_price price_movement\n",
       "datetime                                                                   \n",
       "2021-02-14 00:24:55.800000-08:00  48916.905000  48916.328125       Downward\n",
       "2021-02-14 00:24:56-08:00         48916.750714  48916.328125       Downward\n",
       "2021-02-14 00:24:56.200000-08:00  48916.725000  48916.195312       Downward\n",
       "2021-02-14 00:24:56.400000-08:00  48916.725000  48916.152344       Downward\n",
       "2021-02-14 00:24:56.600000-08:00  48916.725000  48916.148438       Downward\n",
       "2021-02-14 00:24:56.800000-08:00  48916.725000  48916.144531       Downward\n",
       "2021-02-14 00:24:57-08:00         48916.725000  48916.156250         Upward\n",
       "2021-02-14 00:24:57.200000-08:00  48916.725000  48916.148438       Downward\n",
       "2021-02-14 00:24:57.400000-08:00  48916.725000  48916.152344         Upward\n",
       "2021-02-14 00:24:57.600000-08:00  48916.725000  48916.152344       Downward"
      ]
     },
     "execution_count": 71,
     "metadata": {},
     "output_type": "execute_result"
    }
   ],
   "source": [
    "price=df['pred_price']\n",
    "price_movement=[np.nan for i in range(len(price))]\n",
    "for i in range(len(price)):\n",
    "    if price[i]>price[i-1]:\n",
    "        price_movement[i]='Upward'\n",
    "    elif price[i]<price[i-1]:\n",
    "        price_movement[i]='Downward'\n",
    "df['price_movement'] = price_movement #The rows where there is a change in price are populated\n",
    "df['price_movement'] = df['price_movement'].fillna(method='bfill').fillna(method='ffill') #The rest of the rows are populated using the following price movement\n",
    "df[70:80]"
   ]
  },
  {
   "cell_type": "markdown",
   "id": "architectural-twelve",
   "metadata": {},
   "source": [
    "### Running Script File"
   ]
  },
  {
   "cell_type": "code",
   "execution_count": 90,
   "id": "economic-material",
   "metadata": {},
   "outputs": [
    {
     "name": "stdout",
     "output_type": "stream",
     "text": [
      "Test Score: 4.24 RMSE\n"
     ]
    },
    {
     "name": "stderr",
     "output_type": "stream",
     "text": [
      "C:\\Users\\Gopinath\\Ipython notebooks\\InsAIt Data\\predict.py:102: SettingWithCopyWarning: \n",
      "A value is trying to be set on a copy of a slice from a DataFrame.\n",
      "Try using .loc[row_indexer,col_indexer] = value instead\n",
      "\n",
      "See the caveats in the documentation: https://pandas.pydata.org/pandas-docs/stable/user_guide/indexing.html#returning-a-view-versus-a-copy\n",
      "  df['price_movement'] = price_movement  # The rows where there is a change in price are populated\n",
      "C:\\Users\\Gopinath\\Ipython notebooks\\InsAIt Data\\predict.py:103: SettingWithCopyWarning: \n",
      "A value is trying to be set on a copy of a slice from a DataFrame.\n",
      "Try using .loc[row_indexer,col_indexer] = value instead\n",
      "\n",
      "See the caveats in the documentation: https://pandas.pydata.org/pandas-docs/stable/user_guide/indexing.html#returning-a-view-versus-a-copy\n",
      "  df['price_movement'] = df['price_movement'].fillna(method='bfill').fillna(\n"
     ]
    },
    {
     "name": "stdout",
     "output_type": "stream",
     "text": [
      "Saved final csv file with predicted prices and price movement\n"
     ]
    }
   ],
   "source": [
    "%run -i predict.py"
   ]
  },
  {
   "cell_type": "code",
   "execution_count": null,
   "id": "lonely-roulette",
   "metadata": {},
   "outputs": [],
   "source": []
  }
 ],
 "metadata": {
  "kernelspec": {
   "display_name": "Python 3",
   "language": "python",
   "name": "python3"
  },
  "language_info": {
   "codemirror_mode": {
    "name": "ipython",
    "version": 3
   },
   "file_extension": ".py",
   "mimetype": "text/x-python",
   "name": "python",
   "nbconvert_exporter": "python",
   "pygments_lexer": "ipython3",
   "version": "3.8.5"
  }
 },
 "nbformat": 4,
 "nbformat_minor": 5
}
